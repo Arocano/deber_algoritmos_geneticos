{
 "cells": [
  {
   "cell_type": "code",
   "execution_count": 1,
   "metadata": {},
   "outputs": [],
   "source": [
    "from clases.individuos import Individuo\n",
    "from clases.ruleta import Ruleta"
   ]
  },
  {
   "cell_type": "code",
   "execution_count": 2,
   "metadata": {},
   "outputs": [],
   "source": [
    "uno=Individuo([[0,1,2],[3,5,4],[6,7,8]])\n",
    "estado_objetivo=[[0,1,2],[3,4,5],[6,7,8]]\n",
    "dos=Individuo([[0,2,1],[3,4,8],[6,7,5]])"
   ]
  },
  {
   "cell_type": "code",
   "execution_count": 3,
   "metadata": {},
   "outputs": [
    {
     "name": "stdout",
     "output_type": "stream",
     "text": [
      "2\n",
      "4\n"
     ]
    }
   ],
   "source": [
    "uno.calcularHerustica(estado_objetivo)\n",
    "dos.calcularHerustica(estado_objetivo)\n",
    "print(uno.funcion_heuristica)\n",
    "print(dos.funcion_heuristica)\n",
    "totalHeuristica=uno.funcion_heuristica+dos.funcion_heuristica"
   ]
  },
  {
   "cell_type": "code",
   "execution_count": 4,
   "metadata": {},
   "outputs": [
    {
     "name": "stdout",
     "output_type": "stream",
     "text": [
      "4\n",
      "2\n"
     ]
    }
   ],
   "source": [
    "print(uno.obtenerPosibles(totalHeuristica))\n",
    "print(dos.obtenerPosibles(totalHeuristica))\n",
    "totalPosibles=uno.obtenerPosibles(totalHeuristica)+dos.obtenerPosibles(totalHeuristica)"
   ]
  },
  {
   "cell_type": "code",
   "execution_count": 5,
   "metadata": {},
   "outputs": [],
   "source": [
    "uno.obtenerProbabilidad(totalHeuristica,totalPosibles)\n",
    "dos.obtenerProbabilidad(totalHeuristica,totalPosibles)"
   ]
  },
  {
   "cell_type": "code",
   "execution_count": 6,
   "metadata": {},
   "outputs": [
    {
     "name": "stdout",
     "output_type": "stream",
     "text": [
      "67.0\n",
      "33.0\n"
     ]
    }
   ],
   "source": [
    "print(uno.probabilidad)\n",
    "print(dos.probabilidad)"
   ]
  },
  {
   "cell_type": "code",
   "execution_count": 7,
   "metadata": {},
   "outputs": [
    {
     "name": "stdout",
     "output_type": "stream",
     "text": [
      "[33. 33. 33. 33. 67. 67. 67. 67. 67. 33. 67. 67. 67. 33. 67. 67. 33. 67.\n",
      " 33. 67. 33. 67. 67. 67. 67. 33. 33. 67. 33. 67. 67. 67. 67. 67. 33. 33.\n",
      " 67. 67. 67. 67. 33. 67. 67. 33. 33. 33. 67. 67. 67. 67. 33. 67. 67. 67.\n",
      " 67. 33. 67. 67. 67. 67. 67. 67. 67. 67. 67. 67. 67. 67. 33. 33. 67. 33.\n",
      " 67. 33. 67. 67. 33. 67. 67. 67. 33. 67. 33. 33. 33. 67. 67. 67. 67. 33.\n",
      " 33. 67. 67. 67. 33. 67. 67. 33. 67. 67.]\n"
     ]
    }
   ],
   "source": [
    "rul=Ruleta\n",
    "rul.colocarProbabilidades(uno.probabilidad)\n",
    "rul.colocarProbabilidades(dos.probabilidad)\n",
    "print(rul.arr)"
   ]
  }
 ],
 "metadata": {
  "kernelspec": {
   "display_name": "base",
   "language": "python",
   "name": "python3"
  },
  "language_info": {
   "codemirror_mode": {
    "name": "ipython",
    "version": 3
   },
   "file_extension": ".py",
   "mimetype": "text/x-python",
   "name": "python",
   "nbconvert_exporter": "python",
   "pygments_lexer": "ipython3",
   "version": "3.10.9"
  },
  "orig_nbformat": 4
 },
 "nbformat": 4,
 "nbformat_minor": 2
}
