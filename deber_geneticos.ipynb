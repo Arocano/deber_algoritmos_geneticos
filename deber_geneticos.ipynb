{
 "cells": [
  {
   "cell_type": "code",
   "execution_count": 8,
   "metadata": {},
   "outputs": [],
   "source": [
    "from clases.individuos import Individuo\n",
    "from clases.ruleta import Ruleta"
   ]
  },
  {
   "cell_type": "code",
   "execution_count": 9,
   "metadata": {},
   "outputs": [],
   "source": [
    "uno=Individuo([[0,1,2],[3,5,4],[6,7,8]])\n",
    "estado_objetivo=[[0,1,2],[3,4,5],[6,7,8]]\n",
    "dos=Individuo([[0,2,1],[3,4,8],[6,7,5]])"
   ]
  },
  {
   "cell_type": "code",
   "execution_count": 10,
   "metadata": {},
   "outputs": [
    {
     "name": "stdout",
     "output_type": "stream",
     "text": [
      "2\n",
      "4\n"
     ]
    }
   ],
   "source": [
    "uno.calcularHerustica(estado_objetivo)\n",
    "dos.calcularHerustica(estado_objetivo)\n",
    "print(uno.funcion_heuristica)\n",
    "print(dos.funcion_heuristica)\n",
    "totalHeuristica=uno.funcion_heuristica+dos.funcion_heuristica"
   ]
  },
  {
   "cell_type": "code",
   "execution_count": 11,
   "metadata": {},
   "outputs": [
    {
     "name": "stdout",
     "output_type": "stream",
     "text": [
      "4\n",
      "2\n"
     ]
    }
   ],
   "source": [
    "print(uno.obtenerPosibles(totalHeuristica))\n",
    "print(dos.obtenerPosibles(totalHeuristica))\n",
    "totalPosibles=uno.obtenerPosibles(totalHeuristica)+dos.obtenerPosibles(totalHeuristica)"
   ]
  },
  {
   "cell_type": "code",
   "execution_count": 12,
   "metadata": {},
   "outputs": [],
   "source": [
    "uno.obtenerProbabilidad(totalHeuristica,totalPosibles)\n",
    "dos.obtenerProbabilidad(totalHeuristica,totalPosibles)"
   ]
  },
  {
   "cell_type": "code",
   "execution_count": 13,
   "metadata": {},
   "outputs": [
    {
     "name": "stdout",
     "output_type": "stream",
     "text": [
      "67\n",
      "34\n"
     ]
    }
   ],
   "source": [
    "print(uno.probabilidad)\n",
    "print(dos.probabilidad)"
   ]
  },
  {
   "cell_type": "code",
   "execution_count": 14,
   "metadata": {},
   "outputs": [
    {
     "ename": "TypeError",
     "evalue": "colocarProbabilidades() missing 1 required positional argument: 'probabilidad'",
     "output_type": "error",
     "traceback": [
      "\u001b[1;31m---------------------------------------------------------------------------\u001b[0m",
      "\u001b[1;31mTypeError\u001b[0m                                 Traceback (most recent call last)",
      "\u001b[1;32m~\\AppData\\Local\\Temp\\ipykernel_6516\\4050423024.py\u001b[0m in \u001b[0;36m<module>\u001b[1;34m\u001b[0m\n\u001b[0;32m      1\u001b[0m \u001b[0mrul\u001b[0m\u001b[1;33m=\u001b[0m\u001b[0mRuleta\u001b[0m\u001b[1;33m\u001b[0m\u001b[1;33m\u001b[0m\u001b[0m\n\u001b[1;32m----> 2\u001b[1;33m \u001b[0mrul\u001b[0m\u001b[1;33m.\u001b[0m\u001b[0mcolocarProbabilidades\u001b[0m\u001b[1;33m(\u001b[0m\u001b[0muno\u001b[0m\u001b[1;33m.\u001b[0m\u001b[0mprobabilidad\u001b[0m\u001b[1;33m)\u001b[0m\u001b[1;33m\u001b[0m\u001b[1;33m\u001b[0m\u001b[0m\n\u001b[0m\u001b[0;32m      3\u001b[0m \u001b[0mrul\u001b[0m\u001b[1;33m.\u001b[0m\u001b[0mcolocarProbabilidades\u001b[0m\u001b[1;33m(\u001b[0m\u001b[0mdos\u001b[0m\u001b[1;33m.\u001b[0m\u001b[0mprobabilidad\u001b[0m\u001b[1;33m)\u001b[0m\u001b[1;33m\u001b[0m\u001b[1;33m\u001b[0m\u001b[0m\n\u001b[0;32m      4\u001b[0m \u001b[0mprint\u001b[0m\u001b[1;33m(\u001b[0m\u001b[0mrul\u001b[0m\u001b[1;33m.\u001b[0m\u001b[0marr\u001b[0m\u001b[1;33m)\u001b[0m\u001b[1;33m\u001b[0m\u001b[1;33m\u001b[0m\u001b[0m\n",
      "\u001b[1;31mTypeError\u001b[0m: colocarProbabilidades() missing 1 required positional argument: 'probabilidad'"
     ]
    }
   ],
   "source": [
    "rul=Ruleta\n",
    "rul.colocarProbabilidades(uno.probabilidad)\n",
    "rul.colocarProbabilidades(dos.probabilidad)\n",
    "print(rul.arr)"
   ]
  }
 ],
 "metadata": {
  "kernelspec": {
   "display_name": "base",
   "language": "python",
   "name": "python3"
  },
  "language_info": {
   "codemirror_mode": {
    "name": "ipython",
    "version": 3
   },
   "file_extension": ".py",
   "mimetype": "text/x-python",
   "name": "python",
   "nbconvert_exporter": "python",
   "pygments_lexer": "ipython3",
   "version": "3.9.13"
  },
  "orig_nbformat": 4
 },
 "nbformat": 4,
 "nbformat_minor": 2
}
