{
 "cells": [
  {
   "cell_type": "code",
   "execution_count": 1,
   "metadata": {},
   "outputs": [
    {
     "name": "stdout",
     "output_type": "stream",
     "text": [
      "Solucion\n",
      "[[0, 1, 2], [3, 4, 5], [6, 7, 8]]\n",
      "\n",
      "Poblacion\n",
      "[[1, 2, 0], [3, 4, 5], [6, 7, 8]]\n",
      "[[1, 2, 0], [3, 4, 5], [6, 7, 8]]\n",
      "[[1, 0, 2], [3, 4, 5], [6, 8, 7]]\n",
      "[[1, 0, 2], [3, 4, 5], [6, 7, 8]]\n",
      "[[1, 0, 2], [3, 4, 5], [6, 7, 8]]\n",
      "[[1, 0, 2], [3, 4, 7], [6, 5, 8]]\n",
      "[[1, 0, 2], [3, 4, 5], [6, 7, 8]]\n",
      "[[1, 0, 2], [3, 4, 5], [6, 7, 8]]\n",
      "[[1, 0, 2], [3, 4, 5], [6, 7, 8]]\n",
      "[[1, 0, 2], [3, 4, 5], [6, 7, 8]]\n",
      "[[1, 0, 2], [3, 4, 5], [6, 7, 8]]\n",
      "[[0, 1, 2], [3, 4, 7], [6, 5, 8]]\n",
      "[[1, 0, 2], [3, 4, 5], [6, 7, 8]]\n",
      "[[1, 2, 0], [3, 4, 5], [6, 7, 8]]\n",
      "[[1, 2, 0], [3, 4, 7], [6, 5, 8]]\n",
      "[[0, 1, 2], [3, 4, 5], [6, 7, 8]]\n"
     ]
    }
   ],
   "source": [
    "\n",
    "from clases.algoritmo_genetico import Algortimo_Genetico\n",
    "algoritmo= Algortimo_Genetico()\n",
    "\n",
    "estado_objetivo=[[0,1,2],[3,4,5],[6,7,8]]\n",
    "solucion,poblacion= algoritmo.algoritmo_genetico(estado_objetivo)\n",
    "print(\"Solucion\")\n",
    "print(solucion.cromosomas)\n",
    "print()\n",
    "print(\"Poblacion\")\n",
    "for x in poblacion:\n",
    "    print(x.cromosomas)"
   ]
  }
 ],
 "metadata": {
  "kernelspec": {
   "display_name": "base",
   "language": "python",
   "name": "python3"
  },
  "language_info": {
   "codemirror_mode": {
    "name": "ipython",
    "version": 3
   },
   "file_extension": ".py",
   "mimetype": "text/x-python",
   "name": "python",
   "nbconvert_exporter": "python",
   "pygments_lexer": "ipython3",
   "version": "3.10.9"
  },
  "orig_nbformat": 4
 },
 "nbformat": 4,
 "nbformat_minor": 2
}
